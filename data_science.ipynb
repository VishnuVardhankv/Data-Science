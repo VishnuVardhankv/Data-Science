{
  "nbformat": 4,
  "nbformat_minor": 0,
  "metadata": {
    "colab": {
      "provenance": [],
      "collapsed_sections": [],
      "authorship_tag": "ABX9TyNZ2EkTqBGRRSj2l8c8PlEt",
      "include_colab_link": true
    },
    "kernelspec": {
      "name": "python3",
      "display_name": "Python 3"
    },
    "language_info": {
      "name": "python"
    }
  },
  "cells": [
    {
      "cell_type": "markdown",
      "metadata": {
        "id": "view-in-github",
        "colab_type": "text"
      },
      "source": [
        "<a href=\"https://colab.research.google.com/github/VishnuVardhankv/Data-Science/blob/main/data_science.ipynb\" target=\"_parent\"><img src=\"https://colab.research.google.com/assets/colab-badge.svg\" alt=\"Open In Colab\"/></a>"
      ]
    },
    {
      "cell_type": "code",
      "execution_count": null,
      "metadata": {
        "colab": {
          "base_uri": "https://localhost:8080/"
        },
        "id": "7tf_fbLGgITh",
        "outputId": "6f317df4-b78a-4b38-fddd-44fb2e4546e8"
      },
      "outputs": [
        {
          "output_type": "stream",
          "name": "stdout",
          "text": [
            "['aman', '222', 777, 400.4]\n",
            "('aman', '222', 777, 400.4)\n"
          ]
        }
      ],
      "source": [
        "#Q1\n",
        "s = [\"aman\",\"222\",777,400.4]\n",
        "t = tuple(s)\n",
        "print(s)\n",
        "print(t)"
      ]
    },
    {
      "cell_type": "code",
      "source": [
        "#Q2\n",
        "Dict = {'RollNo' : 3,\"Last Name\" : \"Smith\",\"First Name\" : \"Jack\",\"DOB\" : \"12-12-2000\"}\n",
        "print(Dict)"
      ],
      "metadata": {
        "colab": {
          "base_uri": "https://localhost:8080/"
        },
        "id": "u201f3suitnL",
        "outputId": "209fe843-52c7-470d-902f-b28676ec6f25"
      },
      "execution_count": null,
      "outputs": [
        {
          "output_type": "stream",
          "name": "stdout",
          "text": [
            "{'RollNo': 3, 'Last Name': 'Smith', 'First Name': 'Jack', 'DOB': '12-12-2000'}\n"
          ]
        }
      ]
    },
    {
      "cell_type": "code",
      "source": [
        "#Q3\n",
        "import random\n",
        "a = []\n",
        "print(\"Enter seed value :\")\n",
        "x = int(input())\n",
        "for i in range(3):\n",
        "  c = []\n",
        "  for j in range(3):\n",
        "    random.seed(x)\n",
        "    c.append(random.random())\n",
        "  a.append(c)\n",
        "print(a)\n"
      ],
      "metadata": {
        "id": "1J9R7fSCkS5n",
        "colab": {
          "base_uri": "https://localhost:8080/"
        },
        "outputId": "493641b2-daba-43a8-b55b-20623f1e7d74"
      },
      "execution_count": null,
      "outputs": [
        {
          "output_type": "stream",
          "name": "stdout",
          "text": [
            "Enter seed value :\n",
            "5\n",
            "[[0.6229016948897019, 0.6229016948897019, 0.6229016948897019], [0.6229016948897019, 0.6229016948897019, 0.6229016948897019], [0.6229016948897019, 0.6229016948897019, 0.6229016948897019]]\n"
          ]
        }
      ]
    },
    {
      "cell_type": "code",
      "source": [
        "#Q4\n",
        "import random\n",
        "x = random.random()\n",
        "print(\"Random number generated is: \",x)\n",
        "print(\"Absolute value of -1234 is: \",abs(-1234))"
      ],
      "metadata": {
        "colab": {
          "base_uri": "https://localhost:8080/"
        },
        "id": "eB32nMa6vNhh",
        "outputId": "5d98ed33-e62d-4916-858a-3e82ec7b067d"
      },
      "execution_count": null,
      "outputs": [
        {
          "output_type": "stream",
          "name": "stdout",
          "text": [
            "Random number generated is:  0.9424502837770503\n",
            "Absolute value of -1234 is:  1234\n"
          ]
        }
      ]
    },
    {
      "cell_type": "code",
      "source": [
        "#Q5\n",
        "def randnum():\n",
        "  return random.randint(20,90)\n",
        "x = randnum()\n",
        "print(x)"
      ],
      "metadata": {
        "colab": {
          "base_uri": "https://localhost:8080/"
        },
        "id": "xlnA_GIQwtmP",
        "outputId": "9b771d84-4552-4a30-facc-13b6671f1a71"
      },
      "execution_count": null,
      "outputs": [
        {
          "output_type": "stream",
          "name": "stdout",
          "text": [
            "23\n"
          ]
        }
      ]
    },
    {
      "cell_type": "code",
      "source": [
        "#Q6\n",
        "import random\n",
        "set = {11,12,13,14,15}\n",
        "li = []\n",
        "def q6a():\n",
        "  for i in set:\n",
        "    li.append(i)\n",
        "    if len(li) == 3:\n",
        "      break\n",
        "  return li\n",
        "x = q6a()\n",
        "print(x)\n",
        "l = list(set)\n",
        "random.shuffle(l)\n",
        "print(\"The shuffled set is: \",l)\n",
        "print(\"Random number from the set is: \",random.choice(l))\n",
        "\n"
      ],
      "metadata": {
        "colab": {
          "base_uri": "https://localhost:8080/"
        },
        "id": "fL9UJvm1xryJ",
        "outputId": "267ebc60-9ddd-4865-a753-aed0d4e330ff"
      },
      "execution_count": null,
      "outputs": [
        {
          "output_type": "stream",
          "name": "stdout",
          "text": [
            "[11, 12, 13]\n",
            "The shuffled set is:  [14, 13, 15, 12, 11]\n",
            "Random number from the set is:  13\n"
          ]
        }
      ]
    },
    {
      "cell_type": "code",
      "source": [
        "#Q7\n",
        "f = open(\"hi.txt\",\"w\")\n",
        "f.write(\"The King is Dead, Long live the king\")\n",
        "f.close()\n",
        "f = open(\"hi.txt\",\"r\")\n",
        "f.read()"
      ],
      "metadata": {
        "colab": {
          "base_uri": "https://localhost:8080/",
          "height": 35
        },
        "id": "DsbjflvL458t",
        "outputId": "8e415503-9a5c-4165-cba5-74cbf9031083"
      },
      "execution_count": null,
      "outputs": [
        {
          "output_type": "execute_result",
          "data": {
            "text/plain": [
              "'The King is Dead, Long live the king'"
            ],
            "application/vnd.google.colaboratory.intrinsic+json": {
              "type": "string"
            }
          },
          "metadata": {},
          "execution_count": 47
        }
      ]
    },
    {
      "cell_type": "code",
      "source": [
        "#Q8\n",
        "print(\"Use of: \")\n",
        "s = input()\n",
        "def func():\n",
        "  if s == \"if\":\n",
        "    print(\"if condition will execute only if the condition is true.\")\n",
        "  elif s == \"else\":\n",
        "    print(\"else will execute when the condition is False.\")\n",
        "  elif s == \"elif\":\n",
        "    print(\"At particular condition if the condition is true it will execute and will not check the remaining conditions.\")\n",
        "  elif s == \"for\":\n",
        "    print(\"\")\n",
        "str = func()"
      ],
      "metadata": {
        "colab": {
          "base_uri": "https://localhost:8080/"
        },
        "id": "JvJLudTY-6s5",
        "outputId": "acc4016b-511b-4324-dfa7-87ae2a65b8ca"
      },
      "execution_count": null,
      "outputs": [
        {
          "output_type": "stream",
          "name": "stdout",
          "text": [
            "Use of: \n",
            "elif\n",
            "At particular condition if the condition is true it will execute and will not check the remaining conditions\n"
          ]
        }
      ]
    },
    {
      "cell_type": "code",
      "source": [
        "#Q9\n",
        "str = \"The King is Dead, Long Live the King\"\n",
        "print(str)\n",
        "print(str[0])\n",
        "print(str[2:5:1])\n",
        "print(str[2:len(str):1])\n",
        "print(str.split())\n"
      ],
      "metadata": {
        "colab": {
          "base_uri": "https://localhost:8080/"
        },
        "id": "gDdbGhFvBhVz",
        "outputId": "34ad6149-8ba8-451e-eaf6-31c82308ab59"
      },
      "execution_count": null,
      "outputs": [
        {
          "output_type": "stream",
          "name": "stdout",
          "text": [
            "The King is Dead, Long Live the King\n",
            "T\n",
            "e K\n",
            "e King is Dead, Long Live the King\n",
            "['The', 'King', 'is', 'Dead,', 'Long', 'Live', 'the', 'King']\n"
          ]
        }
      ]
    },
    {
      "cell_type": "code",
      "source": [
        "#Q10\n",
        "from array import array\n",
        "li = [1.0,4.0,5.0,8.0]\n",
        "a = array('f',li)\n",
        "print(a[0:2])\n"
      ],
      "metadata": {
        "id": "dl35VewzFIiZ",
        "colab": {
          "base_uri": "https://localhost:8080/"
        },
        "outputId": "cf862c23-3fc3-4260-a12c-22a96d889385"
      },
      "execution_count": null,
      "outputs": [
        {
          "output_type": "stream",
          "name": "stdout",
          "text": [
            "array('f', [1.0, 4.0])\n"
          ]
        }
      ]
    },
    {
      "cell_type": "code",
      "source": [
        "#Q11\n",
        "import numpy as np\n",
        "arr = [[1,2,3],[4,5,6]]\n",
        "print(arr)"
      ],
      "metadata": {
        "id": "UNjqn_7tPWBN",
        "outputId": "70b5da8e-67ab-401f-fe1e-32ff54032ec7",
        "colab": {
          "base_uri": "https://localhost:8080/"
        }
      },
      "execution_count": null,
      "outputs": [
        {
          "output_type": "stream",
          "name": "stdout",
          "text": [
            "[[1, 2, 3], [4, 5, 6]]\n"
          ]
        }
      ]
    }
  ]
}